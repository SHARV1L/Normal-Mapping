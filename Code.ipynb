{
 "cells": [
  {
   "cell_type": "code",
   "execution_count": 2,
   "id": "522123f4",
   "metadata": {},
   "outputs": [
    {
     "data": {
      "text/plain": [
       "True"
      ]
     },
     "execution_count": 2,
     "metadata": {},
     "output_type": "execute_result"
    }
   ],
   "source": [
    "import numpy as np\n",
    "import cv2\n",
    "\n",
    "def compute_3d_points(depth_map, K, S):\n",
    "    h, w = depth_map.shape\n",
    "    points_3d = np.zeros((h, w, 3))\n",
    "    for y in range(h):\n",
    "        for x in range(w):\n",
    "            d = depth_map[y, x]\n",
    "            if d == 0:\n",
    "                continue\n",
    "            points_3d[y, x] = np.dot(np.linalg.inv(K), np.array([x, y, 1])) * d / S\n",
    "    return points_3d\n",
    "\n",
    "def estimate_plane_normals(points_3d):\n",
    "    h, w, _ = points_3d.shape\n",
    "    normals = np.zeros((h, w, 3))\n",
    "    for y in range(3, h - 3):\n",
    "        for x in range(3, w - 3):\n",
    "            neighborhood = points_3d[y-3:y+4, x-3:x+4].reshape(-1, 3)\n",
    "            neighborhood = neighborhood[~np.all(neighborhood == 0, axis=1)]\n",
    "\n",
    "            if len(neighborhood) < 3:\n",
    "                continue\n",
    "\n",
    "            centroid = np.mean(neighborhood, axis=0)\n",
    "            centered_points = neighborhood - centroid\n",
    "            _, _, V = np.linalg.svd(centered_points)\n",
    "            normal = V[-1]\n",
    "\n",
    "            if normal[-1] < 0:\n",
    "                normal = -normal\n",
    "            normals[y, x] = normal\n",
    "    return normals\n",
    "\n",
    "def normals_to_rgb_image(normals):\n",
    "    h, w, _ = normals.shape\n",
    "    rgb_image = np.zeros((h, w, 3), dtype=np.uint8)\n",
    "    for y in range(h):\n",
    "        for x in range(w):\n",
    "            normal = normals[y, x]\n",
    "            if np.all(normal == 0):\n",
    "                continue\n",
    "            rgb_image[y, x] = ((normal / (2 * np.linalg.norm(normal)) + 0.5) * 255).astype(np.uint8)\n",
    "    return rgb_image\n",
    "\n",
    "# Load the depth map as a single-channel image.\n",
    "depth_map = cv2.imread(\"depth1.png\", cv2.IMREAD_GRAYSCALE)\n",
    "\n",
    "# Define the intrinsic camera matrix K.\n",
    "K = np.array([[525.0, 0, 319.5],\n",
    "              [0, 525.0, 239.5],\n",
    "              [0, 0, 1]])\n",
    "\n",
    "S = 5000\n",
    "\n",
    "# Compute the 3D points for all pixels in the image.\n",
    "points_3d = compute_3d_points(depth_map, K, S)\n",
    "\n",
    "# Estimate the plane normals for each 3D point.\n",
    "normals = estimate_plane_normals(points_3d)\n",
    "\n",
    "# Map the normals to an RGB image.\n",
    "rgb_image = normals_to_rgb_image(normals)\n",
    "\n",
    "# Save the RGB image.\n",
    "cv2.imwrite(\"output_rgb_image.png\", rgb_image)\n"
   ]
  }
 ],
 "metadata": {
  "kernelspec": {
   "display_name": "Python 3 (ipykernel)",
   "language": "python",
   "name": "python3"
  },
  "language_info": {
   "codemirror_mode": {
    "name": "ipython",
    "version": 3
   },
   "file_extension": ".py",
   "mimetype": "text/x-python",
   "name": "python",
   "nbconvert_exporter": "python",
   "pygments_lexer": "ipython3",
   "version": "3.10.9"
  }
 },
 "nbformat": 4,
 "nbformat_minor": 5
}
